{
 "cells": [
  {
   "cell_type": "code",
   "execution_count": 18,
   "metadata": {},
   "outputs": [
    {
     "name": "stdout",
     "output_type": "stream",
     "text": [
      "{\"Thinking, Fast and Slow by Daniel Kahneman\": \"Psychology\", \"Metaphysics by Richard Taylor\": \"Philosophy\", \"The Things They Carried by Tim O'Brien\": \"Fiction\", \"Between the World and Me by Ta-Nehisi Coates\": \"Autobiography\", \"Evicted: Poverty and Profit in the American City by Matthew Desmond\": \"Sociology\", \"College textbooks on the shelf?\": true, \"Width of thickest book in inches\": 4.25, \"How many books about the Russian language?\": 16, \"E-books\": [\"Sapiens: A Brief History of Humankind\", [\"Learning the Vi and Vim\", \"BASH Guide\"]], \"Demo dictionary\": {\"a\": 1, \"b\": 2, \"c\": 3}}\n"
     ]
    }
   ],
   "source": [
    "'''Demonstration of JavaScript Object Notation (JSON) basic functionality'''\n",
    "\n",
    "# importing JSON module from Python's Standard Libary\n",
    "import json\n",
    "\n",
    "# creating a data structure in Python to be serialized into JSON-friendly text\n",
    "\n",
    "# making a dictionary with some books pulled from my bookshelf\n",
    "bookshelf = {}\n",
    "bookshelf['Thinking, Fast and Slow by Daniel Kahneman'] = 'Psychology'\n",
    "bookshelf['Metaphysics by Richard Taylor'] = 'Philosophy'\n",
    "bookshelf[\"The Things They Carried by Tim O'Brien\"] = 'Fiction'\n",
    "bookshelf['Between the World and Me by Ta-Nehisi Coates'] = 'Autobiography'\n",
    "bookshelf['Evicted: Poverty and Profit in the American City by Matthew Desmond'] = 'Sociology'\n",
    "\n",
    "# demo values of boolean literals\n",
    "bookshelf[\"College textbooks on the shelf?\"] = True\n",
    "\n",
    "# demo values of floats\n",
    "bookshelf[\"Width of thickest book in inches\"] = 4.25\n",
    "\n",
    "# demo values of integers\n",
    "bookshelf[\"How many books about the Russian language?\"] = 16\n",
    "\n",
    "# demo of JSON encoding lists containing tuples\n",
    "bookshelf[\"E-books\"] = ['Sapiens: A Brief History of Humankind', ('Learning the Vi and Vim', 'BASH Guide')]\n",
    "\n",
    "# demo of JSON encoding a dictionary\n",
    "bookshelf['Demo dictionary'] = {'a': 1, 'b': 2, 'c': 3}\n",
    "\n",
    "# Pass our native python object to the json.dumps i.e. dump string and see its structure\n",
    "print(json.dumps(bookshelf))\n",
    "\n",
    "# JSON's most useful when the string makes it into a file for actual data exchnage\n",
    "# Create a file with the conventional .json ending, and then use our write method\n",
    "# to ship out the returned JSON-encoded string by json.dumps\n",
    "# see Deitel, pages 327 - 328\n",
    "with open('bookshelf.json', 'w') as books_file:\n",
    "    books_file.write(json.dumps(bookshelf))"
   ]
  },
  {
   "cell_type": "code",
   "execution_count": 34,
   "metadata": {},
   "outputs": [
    {
     "name": "stdout",
     "output_type": "stream",
     "text": [
      "----Printed with object passed through json.load----\n",
      "Pens : 9\n",
      "Pencils : 2\n",
      "Air Duster : Canister\n",
      "Scribbler : Notebook\n",
      "Nearby Paints : ['Red', 'Yellow', 'Blue', 'White', 'Black', 'Brown']\n",
      "\n",
      "----Printed with object passed through json.loads----\n",
      "Pens : 9\n",
      "Pencils : 2\n",
      "Air Duster : Canister\n",
      "Scribbler : Notebook\n",
      "Nearby Paints : ['Red', 'Yellow', 'Blue', 'White', 'Black', 'Brown']\n"
     ]
    }
   ],
   "source": [
    "# Given a file encoded in JSON, let's make Python objects out of it\n",
    "# make sure you've imported the JSON module\n",
    "# once we get a file object, we can pass it directly to json.load\n",
    "# create variable to hold fresh Python object\n",
    "deskobjects = {}\n",
    "deskobjects2 = {}\n",
    "# Option 1: json.load\n",
    "with open('desk_objects.json', 'r') as deskfile:\n",
    "    # Deserialize the JSON file. Note that json.load takes an entire\n",
    "    # file object and manages the reading of that file internally \n",
    "    deskobjects = json.load(deskfile)\n",
    "# iterate over our dictionary we got from the JSON file\n",
    "# with our familiar Python objects\n",
    "# pretty printing\n",
    "print(\"----Printed with object passed through json.load----\")\n",
    "for thing in deskobjects:\n",
    "    print(thing, ':', deskobjects[thing])\n",
    "\n",
    "print()\n",
    "\n",
    "# Option 2: json.loads, i.e. we give the json module the raw string from any source    \n",
    "# Open the JSON file, then send the content of that file to json.load\n",
    "with open('desk_objects.json', 'r') as deskfile2:\n",
    "    # extract the contents of the file manually with file.read()\n",
    "    rawstring = deskfile2.read()\n",
    "    # with the string in hand, pass to json.loads\n",
    "    deskobjects2 = json.loads(rawstring)\n",
    "# pretty printing\n",
    "print(\"----Printed with object passed through json.loads----\")\n",
    "for thing in deskobjects2:\n",
    "    print(thing, ':', deskobjects2[thing])\n",
    "\n",
    "\n",
    "\n",
    "\n"
   ]
  },
  {
   "cell_type": "code",
   "execution_count": null,
   "metadata": {},
   "outputs": [],
   "source": []
  }
 ],
 "metadata": {
  "kernelspec": {
   "display_name": "Python 3",
   "language": "python",
   "name": "python3"
  },
  "language_info": {
   "codemirror_mode": {
    "name": "ipython",
    "version": 3
   },
   "file_extension": ".py",
   "mimetype": "text/x-python",
   "name": "python",
   "nbconvert_exporter": "python",
   "pygments_lexer": "ipython3",
   "version": "3.8.5"
  }
 },
 "nbformat": 4,
 "nbformat_minor": 4
}
