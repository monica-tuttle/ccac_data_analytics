{
 "cells": [
  {
   "cell_type": "code",
   "execution_count": 21,
   "metadata": {},
   "outputs": [
    {
     "name": "stdout",
     "output_type": "stream",
     "text": [
      "{'Location': {'BRIDGEVILLE': 2, 'EDGEWOOD': 2, 'NORTH VERSAILLES': 2, 'BEN AVON': 1, 'DRAVOSBURG': 3, 'DUQUESNE': 4, 'FOREST HILLS': 5, 'HARRISON ': 2, 'MT. OLIVER': 3, 'SCOTT ': 2, 'SWISSVALE': 3, 'WHITEHALL': 1, 'BALDWIN ': 6, 'ELIZABETH ': 2, 'INDIANA': 1, 'JEFFERSON ': 1, 'RANKIN': 1, 'SPRINGDALE ': 1, 'EAST PITTSBURGH': 2, 'WHITE OAK': 2, 'NORTH BRADDOCK': 2, 'WEST VIEW': 3, 'BRACKENRIDGE': 1, 'CLAIRTON': 2, 'MCKEES ROCKS': 2, 'MONROEVILLE  ': 2, \"O'HARA\": 1, 'BLAWNOX': 1, 'WEST DEER': 1, 'WEST MIFFLIN': 7, 'WILKINS': 2, 'MOUNT OLIVER': 2, 'NORTH FAYETTE': 1, 'EAST MCKEESPORT': 1, 'ROSS ': 1, 'PORT VUE': 3, 'MONROEVILLE': 3, 'EMSWORTH': 1, 'SHALER': 2, 'MUNHALL': 5, 'LEET': 1, 'PLEASANT HILLS': 1, 'WILKINSBURG': 2, 'HOMESTEAD': 1, 'CARNEGIE': 2, 'CRAFTON': 1, 'GLASSPORT': 1, 'TURTLE CREEK': 1, 'BRADDOCK': 2, 'VERSAILLES': 1, 'HARMAR': 1, 'WHITAKER': 1, 'HARRISON': 1, 'BETHEL PARK': 1, 'PLUM ': 1, 'LINCOLN ': 1, 'DORMONT': 1}, 'Year': {'2015': 22, '2016': 16, '2017': 24, '2018': 16, '2019': 26, '2020': 5}, 'Total Number of Loans': {'1': 100, '2': 9}, 'Total Loan Amount': [10000.0, 3900.0, 21475.0, 16475.0, 24575.0, 11950.0, 10714.0, 7400.0, 5000.0, 23000.0, 14750.0, 20883.0, 12550.0, 24875.0, 4950.0, 22650.0, 5885.0, 6505.48, 8950.0, 17725.0, 8118.0, 13265.0, 3000.0, 24800.0, 10020.0, 13575.0, 21710.0, 8720.0, 5200.0, 5786.0, 24330.0, 14496.0, 4186.0, 3250.0, 7221.0, 7862.0, 29243.0, 4189.0, 23975.0, 5925.0, 6227.0, 6611.0, 5613.0, 7000.0, 10350.0, 24000.0, 23375.0, 3750.0, 15375.0, 8127.5, 6000.0, 23825.0, 11718.0, 22310.0, 4370.0, 9181.0, 23375.0, 8085.0, 10000.0, 10985.0, 19740.0, 5250.0, 13998.56, 24500.0, 9500.0, 11240.0, 11300.0, 24570.0, 3850.0, 8875.0, 8800.0, 14825.0, 8725.0, 16972.0, 13465.0, 5400.0, 8886.0, 5950.0, 9659.0, 7282.57, 12000.0, 17310.0, 5500.0, 8800.0, 23380.0, 6300.0, 7875.0, 7350.0, 8454.0, 9750.0, 7975.0, 10150.0, 32168.0, 12000.0, 13000.0, 10390.0, 24634.0, 11800.0, 7850.0, 15525.0, 8698.97, 4800.0, 24500.0, 14783.0, 3865.9, 22643.1, 6367.59, 21653.9, 9300.0]}\n"
     ]
    },
    {
     "ename": "NameError",
     "evalue": "name 'mean' is not defined",
     "output_type": "error",
     "traceback": [
      "\u001b[0;31m---------------------------------------------------------------------------\u001b[0m",
      "\u001b[0;31mNameError\u001b[0m                                 Traceback (most recent call last)",
      "\u001b[0;32m<ipython-input-21-2649a89c4d3a>\u001b[0m in \u001b[0;36m<module>\u001b[0;34m\u001b[0m\n\u001b[1;32m     48\u001b[0m \u001b[0mprint\u001b[0m\u001b[0;34m(\u001b[0m\u001b[0mahilp_summary\u001b[0m\u001b[0;34m)\u001b[0m\u001b[0;34m\u001b[0m\u001b[0;34m\u001b[0m\u001b[0m\n\u001b[1;32m     49\u001b[0m \u001b[0mloan_amt_agg\u001b[0m \u001b[0;34m=\u001b[0m \u001b[0msum\u001b[0m\u001b[0;34m(\u001b[0m\u001b[0mahilp_summary\u001b[0m\u001b[0;34m[\u001b[0m\u001b[0;34m'Total Loan Amount'\u001b[0m\u001b[0;34m]\u001b[0m\u001b[0;34m)\u001b[0m\u001b[0;34m\u001b[0m\u001b[0;34m\u001b[0m\u001b[0m\n\u001b[0;32m---> 50\u001b[0;31m \u001b[0mprint\u001b[0m\u001b[0;34m(\u001b[0m\u001b[0mmean\u001b[0m\u001b[0;34m(\u001b[0m\u001b[0mahilp_summary\u001b[0m\u001b[0;34m[\u001b[0m\u001b[0;34m'Total Loan Amount'\u001b[0m\u001b[0;34m]\u001b[0m\u001b[0;34m)\u001b[0m\u001b[0;34m)\u001b[0m\u001b[0;34m\u001b[0m\u001b[0;34m\u001b[0m\u001b[0m\n\u001b[0m\u001b[1;32m     51\u001b[0m \u001b[0mprint\u001b[0m\u001b[0;34m(\u001b[0m\u001b[0mloan_amt_agg\u001b[0m\u001b[0;34m)\u001b[0m\u001b[0;34m\u001b[0m\u001b[0;34m\u001b[0m\u001b[0m\n\u001b[1;32m     52\u001b[0m \u001b[0;31m#counter = 0\u001b[0m\u001b[0;34m\u001b[0m\u001b[0;34m\u001b[0m\u001b[0;34m\u001b[0m\u001b[0m\n",
      "\u001b[0;31mNameError\u001b[0m: name 'mean' is not defined"
     ]
    }
   ],
   "source": [
    "import statistics\n",
    "from csv import DictReader\n",
    "# Parsing the ACED Allegheny Home Improvement Loan Program (AHILP) from WPRDC\n",
    "# https://data.wprdc.org/dataset/aced-allegheny-home-improvement-loan-program-ahilp# We'll use DictReader object to iterate over the contents of the file and tabulate\n",
    "# by year, municipality, total number of loans, and total loan amount\n",
    "\n",
    "# Create a data tracking container prior to iterating over our CSV\n",
    "# empty dictionaries as values for keys will be added as we iterate\n",
    "#ahilp_summary = {'year': {}, 'municipality': {}, 'number of loans': 0, 'loan amount': {}}\n",
    "# use with facility to manage our file object called ahilp_file\n",
    "# For key 'Location', the value will be a dictionary to hold neighborhood name and value count\n",
    "loan_amount_lst = []\n",
    "ahilp_summary = {'Location': {}, 'Year': {}, 'Total Number of Loans': {}, 'Total Loan Amount': loan_amount_lst} \n",
    "ahilp_dict = {}\n",
    "with open('ahilp-dataset-thru-6-2020.csv') as ahilp_file:\n",
    "    dreader = DictReader(ahilp_file)\n",
    "#    print(dreader.fieldnames)\n",
    "    for record in dreader:\n",
    "        del record['QUARTER']\n",
    "        record['TOTAL LOAN AMOUNT'] = record['TOTAL LOAN AMOUNT'].lstrip('$')\n",
    "        record['TOTAL LOAN AMOUNT'] = record['TOTAL LOAN AMOUNT'].replace(',', '')\n",
    "        record['TOTAL LOAN AMOUNT'] = record['TOTAL LOAN AMOUNT'].rstrip('  ')\n",
    "        record['MUNICIPALITY'] = record['MUNICIPALITY'].upper()\n",
    "        record['MUNICIPALITY'] = record['MUNICIPALITY'].replace('BOROUGH', '')\n",
    "        record['MUNICIPALITY'] = record['MUNICIPALITY'].replace('TOWNSHIP', '')\n",
    "\n",
    "    #        record['YEAR'] = record['\\ufeffYEAR']\n",
    "#        del record['\\ufeffYEAR']\n",
    "#        print(record)\n",
    "        if record['MUNICIPALITY'] not in ahilp_summary['Location']:\n",
    "            ahilp_summary['Location'][record['MUNICIPALITY']] = 1\n",
    "        else:\n",
    "            ahilp_summary['Location'][record['MUNICIPALITY']] += 1\n",
    "\n",
    "        if record['\\ufeffYEAR'] not in ahilp_summary['Year']:\n",
    "            ahilp_summary['Year'][record['\\ufeffYEAR']] = 1\n",
    "        else: \n",
    "            ahilp_summary['Year'][record['\\ufeffYEAR']] += 1\n",
    "        if record['TOTAL NUMBER OF LOANS'] not in ahilp_summary['Total Number of Loans']:\n",
    "            ahilp_summary['Total Number of Loans'][record['TOTAL NUMBER OF LOANS']] = 1\n",
    "        else:\n",
    "            ahilp_summary['Total Number of Loans'][record['TOTAL NUMBER OF LOANS']] += 1\n",
    "\n",
    "        if record['TOTAL LOAN AMOUNT'] not in ahilp_summary['Total Loan Amount']:\n",
    "            loan_amount_lst.append(float(record['TOTAL LOAN AMOUNT']))\n",
    "\n",
    "\n",
    "print(ahilp_summary)\n",
    "loan_amt_agg = sum(ahilp_summary['Total Loan Amount'])\n",
    "print(mean(ahilp_summary['Total Loan Amount']))\n",
    "print(loan_amt_agg)\n",
    "#counter = 0\n",
    "#for item in ahilp_summary['Location'].values():\n",
    "#    counter = counter + item\n",
    "#print(counter)\n",
    "        "
   ]
  },
  {
   "cell_type": "markdown",
   "metadata": {},
   "source": [
    "Plan:\n",
    "    \n",
    "    Goal: To calculate some basic descriptive statistics for AHILP\n",
    "            1. Count of all loans from 2015 - 2020\n",
    "            1. Mode for Neighborhoods\n",
    "            2. Average Loan Amount\n",
    "            \n",
    "    Libraries: import csv, import statistics (maybe)\n",
    "    \n",
    "    Inputs: \n",
    "            1. CSV made into dictionaries for each record\n",
    "            2. strings representing loan amounts and total number of loans need to be made into floats, using the .strip string method (get rid of the dollar sign)\n",
    "            3. \n",
    "            \n",
    "    Outputs: \n",
    "            1. Dictionaries for each record\n",
    "            2. \"Master data structure\" - either a dictionary of dictionaries, or a list of dictionaries (??)\n",
    "            \n",
    "    Program Steps: \n",
    "    \n",
    "    1. Import DictReader capability from csv module\n",
    "    2. Loop through csv records and add to empty dictionary\n",
    "    3. Somehow make a master data structure (dictionary of dictionaries)\n",
    "    4. Change number values in key value pairs to reflect floats \n",
    "    5. Loop through number values for keys of neighborhooods, number of loans, and loan amounts\n",
    "        a. Use counter to get number of loans\n",
    "        b. To be able to do the math for an average, obtain a sum of loan amounts in total with sum()(??)\n",
    "        c. Not sure how to do a mode of neighborhoods yet...\n",
    "    6. Print summary stats\n",
    "    "
   ]
  },
  {
   "cell_type": "code",
   "execution_count": null,
   "metadata": {},
   "outputs": [],
   "source": []
  }
 ],
 "metadata": {
  "kernelspec": {
   "display_name": "Python 3",
   "language": "python",
   "name": "python3"
  },
  "language_info": {
   "codemirror_mode": {
    "name": "ipython",
    "version": 3
   },
   "file_extension": ".py",
   "mimetype": "text/x-python",
   "name": "python",
   "nbconvert_exporter": "python",
   "pygments_lexer": "ipython3",
   "version": "3.8.5"
  }
 },
 "nbformat": 4,
 "nbformat_minor": 4
}
