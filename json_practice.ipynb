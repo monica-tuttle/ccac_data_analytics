{
 "cells": [
  {
   "cell_type": "code",
   "execution_count": 6,
   "metadata": {},
   "outputs": [
    {
     "name": "stdout",
     "output_type": "stream",
     "text": [
      "{\"Dictionary of Books\": {\"a\": 1, \"b\": 2, \"c\": 3}, \"Books\": [\"Sapiens: A Brief History of Humankind\", [\"Learning the Vi and Vim\", \"BASH Guide\"]]}\n"
     ]
    }
   ],
   "source": [
    "import json\n",
    "\n",
    "my_books = {}\n",
    "my_books['Dictionary of Books'] = {'a': 1, 'b': 2, 'c': 3}\n",
    "# Demo JSON encoding lists containing tuples\n",
    "my_books['Books'] = ['Sapiens: A Brief History of Humankind', ('Learning the Vi and Vim', 'BASH Guide')]\n",
    "# Pass our native python object to the json.dumps i.e. dump string and see its structure\n",
    "print(json.dumps(my_books))\n",
    "\n",
    "# JSON's most useful when the string makes it into a file for actual data exchnage\n",
    "# Create a file with the conventional .json ending, and then use our write method\n",
    "# to ship out the returned JSON-encoded string by json.dumps\n",
    "# see Deitel, pages 327 - 328\n",
    "with open('my_books.json', 'w') as book_file:\n",
    "    book_file.write(json.dumps(my_books))\n",
    "                    \n",
    "                    "
   ]
  },
  {
   "cell_type": "code",
   "execution_count": null,
   "metadata": {},
   "outputs": [],
   "source": []
  }
 ],
 "metadata": {
  "kernelspec": {
   "display_name": "Python 3",
   "language": "python",
   "name": "python3"
  },
  "language_info": {
   "codemirror_mode": {
    "name": "ipython",
    "version": 3
   },
   "file_extension": ".py",
   "mimetype": "text/x-python",
   "name": "python",
   "nbconvert_exporter": "python",
   "pygments_lexer": "ipython3",
   "version": "3.8.5"
  }
 },
 "nbformat": 4,
 "nbformat_minor": 4
}
